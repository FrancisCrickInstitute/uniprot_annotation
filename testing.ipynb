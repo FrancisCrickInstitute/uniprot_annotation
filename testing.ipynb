{
 "cells": [
  {
   "cell_type": "markdown",
   "id": "7b84abdc-333a-404b-ab8c-e9df679aa582",
   "metadata": {},
   "source": [
    "### Testing notebook"
   ]
  },
  {
   "cell_type": "code",
   "execution_count": null,
   "id": "db600f34-922f-4d32-8f6c-d039c216bd92",
   "metadata": {},
   "outputs": [],
   "source": [
    "import requests\n",
    "import time\n",
    "import json\n",
    "\n",
    "POLLING_INTERVAL = 3\n",
    "API_URL = \"https://rest.uniprot.org\"\n",
    "\n",
    "\n",
    "def check_response(response):\n",
    "    try:\n",
    "        response.raise_for_status()\n",
    "    except requests.HTTPError:\n",
    "        print(response.json())\n",
    "        raise\n",
    "\n",
    "def submit_id_mapping(from_db, toDB, ids):\n",
    "    response = requests.post(\n",
    "        f\"{API_URL}/idmapping/run\", \n",
    "        data={\"from\": from_db, \"to\": toDB, \"ids\": ids},\n",
    "    )\n",
    "    check_response(response)\n",
    "    return response.json()[\"jobId\"]\n",
    "\n",
    "\n",
    "def get_id_mapping_results(job_id):\n",
    "    while True:\n",
    "        r = requests.get(f\"{API_URL}/idmapping/status/{job_id}\")\n",
    "        r.raise_for_status()\n",
    "        job = r.json()\n",
    "        if \"jobStatus\" in job:\n",
    "            if job[\"jobStatus\"] == \"RUNNING\":\n",
    "                print(f\"Retrying in {POLLING_INTERVAL}s\")\n",
    "                time.sleep(POLLING_INTERVAL)\n",
    "            else:\n",
    "                raise Exception(job[\"jobStatus\"])\n",
    "        else:\n",
    "            return job\n",
    "\n",
    "\n",
    "job_id = submit_id_mapping(\n",
    "    from_db=\"UniProtKB_AC-ID\", \n",
    "    toDB=\"UniProtKB\", \n",
    "    ids=[\"P05067\", \"P12345\"]\n",
    ")\n",
    "\n",
    "results = get_id_mapping_results(job_id)\n"
   ]
  },
  {
   "cell_type": "code",
   "execution_count": null,
   "id": "0cb3bd29-8c66-4551-874c-30e0ca11074f",
   "metadata": {},
   "outputs": [],
   "source": [
    "for idx, entry in enumerate(results['results']):\n",
    "    slocs = set()\n",
    "    for annotation in entry['to']['comments']:\n",
    "        type = annotation['commentType']\n",
    "        if type == ('SUBCELLULAR LOCATION'):\n",
    "            for sloc in annotation['subcellularLocations']:\n",
    "                slocs.add(sloc['location']['value'])\n",
    "    print(idx, entry['from'], slocs)"
   ]
  },
  {
   "cell_type": "code",
   "execution_count": null,
   "id": "ccd24695-8a55-4e06-abde-031a9fd9544b",
   "metadata": {
    "scrolled": true
   },
   "outputs": [],
   "source": [
    "from collections import defaultdict\n",
    "FEATURES = {'Modified residue', 'Natural variant'}\n",
    "\n",
    "annotations = defaultdict(set)\n",
    "variants = defaultdict(set)\n",
    "for idx, entry in enumerate(results['results']):\n",
    "    sequence = entry['to']['sequence']['value']\n",
    "    for feature in entry['to']['features']:\n",
    "        start = feature['location']['start']['value']\n",
    "        end = feature['location']['end']['value']\n",
    "        ftype = feature['type']\n",
    "        if ftype in FEATURES:\n",
    "            for k, res in enumerate(range(start, end+1)):\n",
    "                resname = sequence[res-1]\n",
    "                key = (entry['from'], f'{resname}{res}')\n",
    "                # Get residue annotations\n",
    "                annotations[key].add(ftype)\n",
    "                # Get variants\n",
    "                if ftype == 'Natural variant':\n",
    "                    orseq = feature['alternativeSequence']['originalSequence']\n",
    "                    altseqs = feature['alternativeSequence']['alternativeSequences']\n",
    "                    for v in altseqs:\n",
    "                        variants[key].add((orseq, v[k]))\n",
    "variants"
   ]
  },
  {
   "cell_type": "code",
   "execution_count": null,
   "id": "003fcf97-b9f6-4f8f-a7cf-964b1df7c1e1",
   "metadata": {},
   "outputs": [],
   "source": [
    "print('uniprot_id,resid,annotations')\n",
    "for k,v in INFO.items():\n",
    "    if k[1] > 260:\n",
    "        print(f'{k[0]},{k[1]},{\";\".join(v)}')"
   ]
  }
 ],
 "metadata": {
  "kernelspec": {
   "display_name": "Python 3 (ipykernel)",
   "language": "python",
   "name": "python3"
  },
  "language_info": {
   "codemirror_mode": {
    "name": "ipython",
    "version": 3
   },
   "file_extension": ".py",
   "mimetype": "text/x-python",
   "name": "python",
   "nbconvert_exporter": "python",
   "pygments_lexer": "ipython3",
   "version": "3.10.13"
  }
 },
 "nbformat": 4,
 "nbformat_minor": 5
}
